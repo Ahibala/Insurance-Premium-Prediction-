{
  "nbformat": 4,
  "nbformat_minor": 0,
  "metadata": {
    "colab": {
      "provenance": [],
      "toc_visible": true,
      "authorship_tag": "ABX9TyPqDMmE5nmak1BE0LFPWfJG",
      "include_colab_link": true
    },
    "kernelspec": {
      "name": "python3",
      "display_name": "Python 3"
    },
    "language_info": {
      "name": "python"
    }
  },
  "cells": [
    {
      "cell_type": "markdown",
      "metadata": {
        "id": "view-in-github",
        "colab_type": "text"
      },
      "source": [
        "<a href=\"https://colab.research.google.com/github/Ahibala/Insurance-Premium-Prediction-/blob/main/Part_2_.ipynb\" target=\"_parent\"><img src=\"https://colab.research.google.com/assets/colab-badge.svg\" alt=\"Open In Colab\"/></a>"
      ]
    },
    {
      "cell_type": "markdown",
      "source": [
        "# Part 2 ( model that predicts binary labels (0 or 1) )"
      ],
      "metadata": {
        "id": "fmnYHO8-xw_C"
      }
    },
    {
      "cell_type": "markdown",
      "source": [
        "**problem statement :**\n",
        "\n",
        "Using your code and what you learned in Part 1 above, add on the following:\n",
        "\n",
        "1) Update the dataset so that the labels are 0 and 1. \n",
        "\n",
        "2) Normalize the data\n",
        "\n",
        "3) Include an activation function - the sigmoid\n",
        "\n",
        "4) Using the above updates, create code that can successfully predict the label as 0 or 1. "
      ],
      "metadata": {
        "id": "VIhuqNeyxOPW"
      }
    },
    {
      "cell_type": "markdown",
      "source": [
        "## Step 1: Import required libraries"
      ],
      "metadata": {
        "id": "bbOEaUc8q4_e"
      }
    },
    {
      "cell_type": "code",
      "execution_count": 23,
      "metadata": {
        "id": "D9xCJBUXqz5N"
      },
      "outputs": [],
      "source": [
        "import numpy as np\n",
        "import matplotlib.pyplot as plt\n",
        "import pandas as pd"
      ]
    },
    {
      "cell_type": "markdown",
      "source": [
        "## Step 2: Update the dataset"
      ],
      "metadata": {
        "id": "0xsC179JrC8_"
      }
    },
    {
      "cell_type": "markdown",
      "source": [
        " update the dataset so that the labels are 0 or 1."
      ],
      "metadata": {
        "id": "s6hGgU3VrFX2"
      }
    },
    {
      "cell_type": "code",
      "source": [
        "# Input features (x1, x2)\n",
        "X = np.array([[1, 1],\n",
        "              [2, 3],\n",
        "              [3, 1],\n",
        "              [4, 2]])\n",
        "\n",
        "# Output (y) as binary labels\n",
        "y = np.array([0, 0, 1, 1])\n",
        "\n",
        "\n",
        "data = pd.DataFrame({'x1': X[:, 0], 'x2': X[:, 1], 'y': y})\n",
        "\n",
        "data"
      ],
      "metadata": {
        "colab": {
          "base_uri": "https://localhost:8080/",
          "height": 175
        },
        "id": "F2UinOTNrBkY",
        "outputId": "7848c3e4-b34b-4c47-a871-4563399e3ef8"
      },
      "execution_count": 24,
      "outputs": [
        {
          "output_type": "execute_result",
          "data": {
            "text/plain": [
              "   x1  x2  y\n",
              "0   1   1  0\n",
              "1   2   3  0\n",
              "2   3   1  1\n",
              "3   4   2  1"
            ],
            "text/html": [
              "\n",
              "  <div id=\"df-c70bb840-b7b6-471f-b066-a3a6eeffa3a8\">\n",
              "    <div class=\"colab-df-container\">\n",
              "      <div>\n",
              "<style scoped>\n",
              "    .dataframe tbody tr th:only-of-type {\n",
              "        vertical-align: middle;\n",
              "    }\n",
              "\n",
              "    .dataframe tbody tr th {\n",
              "        vertical-align: top;\n",
              "    }\n",
              "\n",
              "    .dataframe thead th {\n",
              "        text-align: right;\n",
              "    }\n",
              "</style>\n",
              "<table border=\"1\" class=\"dataframe\">\n",
              "  <thead>\n",
              "    <tr style=\"text-align: right;\">\n",
              "      <th></th>\n",
              "      <th>x1</th>\n",
              "      <th>x2</th>\n",
              "      <th>y</th>\n",
              "    </tr>\n",
              "  </thead>\n",
              "  <tbody>\n",
              "    <tr>\n",
              "      <th>0</th>\n",
              "      <td>1</td>\n",
              "      <td>1</td>\n",
              "      <td>0</td>\n",
              "    </tr>\n",
              "    <tr>\n",
              "      <th>1</th>\n",
              "      <td>2</td>\n",
              "      <td>3</td>\n",
              "      <td>0</td>\n",
              "    </tr>\n",
              "    <tr>\n",
              "      <th>2</th>\n",
              "      <td>3</td>\n",
              "      <td>1</td>\n",
              "      <td>1</td>\n",
              "    </tr>\n",
              "    <tr>\n",
              "      <th>3</th>\n",
              "      <td>4</td>\n",
              "      <td>2</td>\n",
              "      <td>1</td>\n",
              "    </tr>\n",
              "  </tbody>\n",
              "</table>\n",
              "</div>\n",
              "      <button class=\"colab-df-convert\" onclick=\"convertToInteractive('df-c70bb840-b7b6-471f-b066-a3a6eeffa3a8')\"\n",
              "              title=\"Convert this dataframe to an interactive table.\"\n",
              "              style=\"display:none;\">\n",
              "        \n",
              "  <svg xmlns=\"http://www.w3.org/2000/svg\" height=\"24px\"viewBox=\"0 0 24 24\"\n",
              "       width=\"24px\">\n",
              "    <path d=\"M0 0h24v24H0V0z\" fill=\"none\"/>\n",
              "    <path d=\"M18.56 5.44l.94 2.06.94-2.06 2.06-.94-2.06-.94-.94-2.06-.94 2.06-2.06.94zm-11 1L8.5 8.5l.94-2.06 2.06-.94-2.06-.94L8.5 2.5l-.94 2.06-2.06.94zm10 10l.94 2.06.94-2.06 2.06-.94-2.06-.94-.94-2.06-.94 2.06-2.06.94z\"/><path d=\"M17.41 7.96l-1.37-1.37c-.4-.4-.92-.59-1.43-.59-.52 0-1.04.2-1.43.59L10.3 9.45l-7.72 7.72c-.78.78-.78 2.05 0 2.83L4 21.41c.39.39.9.59 1.41.59.51 0 1.02-.2 1.41-.59l7.78-7.78 2.81-2.81c.8-.78.8-2.07 0-2.86zM5.41 20L4 18.59l7.72-7.72 1.47 1.35L5.41 20z\"/>\n",
              "  </svg>\n",
              "      </button>\n",
              "      \n",
              "  <style>\n",
              "    .colab-df-container {\n",
              "      display:flex;\n",
              "      flex-wrap:wrap;\n",
              "      gap: 12px;\n",
              "    }\n",
              "\n",
              "    .colab-df-convert {\n",
              "      background-color: #E8F0FE;\n",
              "      border: none;\n",
              "      border-radius: 50%;\n",
              "      cursor: pointer;\n",
              "      display: none;\n",
              "      fill: #1967D2;\n",
              "      height: 32px;\n",
              "      padding: 0 0 0 0;\n",
              "      width: 32px;\n",
              "    }\n",
              "\n",
              "    .colab-df-convert:hover {\n",
              "      background-color: #E2EBFA;\n",
              "      box-shadow: 0px 1px 2px rgba(60, 64, 67, 0.3), 0px 1px 3px 1px rgba(60, 64, 67, 0.15);\n",
              "      fill: #174EA6;\n",
              "    }\n",
              "\n",
              "    [theme=dark] .colab-df-convert {\n",
              "      background-color: #3B4455;\n",
              "      fill: #D2E3FC;\n",
              "    }\n",
              "\n",
              "    [theme=dark] .colab-df-convert:hover {\n",
              "      background-color: #434B5C;\n",
              "      box-shadow: 0px 1px 3px 1px rgba(0, 0, 0, 0.15);\n",
              "      filter: drop-shadow(0px 1px 2px rgba(0, 0, 0, 0.3));\n",
              "      fill: #FFFFFF;\n",
              "    }\n",
              "  </style>\n",
              "\n",
              "      <script>\n",
              "        const buttonEl =\n",
              "          document.querySelector('#df-c70bb840-b7b6-471f-b066-a3a6eeffa3a8 button.colab-df-convert');\n",
              "        buttonEl.style.display =\n",
              "          google.colab.kernel.accessAllowed ? 'block' : 'none';\n",
              "\n",
              "        async function convertToInteractive(key) {\n",
              "          const element = document.querySelector('#df-c70bb840-b7b6-471f-b066-a3a6eeffa3a8');\n",
              "          const dataTable =\n",
              "            await google.colab.kernel.invokeFunction('convertToInteractive',\n",
              "                                                     [key], {});\n",
              "          if (!dataTable) return;\n",
              "\n",
              "          const docLinkHtml = 'Like what you see? Visit the ' +\n",
              "            '<a target=\"_blank\" href=https://colab.research.google.com/notebooks/data_table.ipynb>data table notebook</a>'\n",
              "            + ' to learn more about interactive tables.';\n",
              "          element.innerHTML = '';\n",
              "          dataTable['output_type'] = 'display_data';\n",
              "          await google.colab.output.renderOutput(dataTable, element);\n",
              "          const docLink = document.createElement('div');\n",
              "          docLink.innerHTML = docLinkHtml;\n",
              "          element.appendChild(docLink);\n",
              "        }\n",
              "      </script>\n",
              "    </div>\n",
              "  </div>\n",
              "  "
            ]
          },
          "metadata": {},
          "execution_count": 24
        }
      ]
    },
    {
      "cell_type": "markdown",
      "source": [
        "## Step 3: Normalize the data"
      ],
      "metadata": {
        "id": "sIqYoWinrP0s"
      }
    },
    {
      "cell_type": "code",
      "source": [
        "X = (X - np.min(X, axis=0)) / (np.max(X, axis=0) - np.min(X, axis=0))\n",
        "X"
      ],
      "metadata": {
        "colab": {
          "base_uri": "https://localhost:8080/"
        },
        "id": "hOPrX5k4rIcS",
        "outputId": "2fb70038-9270-48f9-f805-55a8016365a0"
      },
      "execution_count": 25,
      "outputs": [
        {
          "output_type": "execute_result",
          "data": {
            "text/plain": [
              "array([[0.        , 0.        ],\n",
              "       [0.33333333, 1.        ],\n",
              "       [0.66666667, 0.        ],\n",
              "       [1.        , 0.5       ]])"
            ]
          },
          "metadata": {},
          "execution_count": 25
        }
      ]
    },
    {
      "cell_type": "markdown",
      "source": [
        "## Step 4: Initialize the required variables"
      ],
      "metadata": {
        "id": "HBT9nHoyrmo-"
      }
    },
    {
      "cell_type": "code",
      "source": [
        "# Initialize weight vector W (w1, w2) and bias b\n",
        "W = np.random.rand(2)\n",
        "b = np.random.rand()\n",
        "\n",
        "# Set learning rate and number of epochs\n",
        "learning_rate = 0.1\n",
        "epochs = 1000"
      ],
      "metadata": {
        "id": "iZn72BHeroNH"
      },
      "execution_count": 26,
      "outputs": []
    },
    {
      "cell_type": "markdown",
      "source": [
        "## Step 5: Define the sigmoid activation function"
      ],
      "metadata": {
        "id": "rI4oLBSHrr55"
      }
    },
    {
      "cell_type": "code",
      "source": [
        "def sigmoid(z):\n",
        "    return 1 / (1 + np.exp(-z))"
      ],
      "metadata": {
        "id": "sL-GlXo1rrJw"
      },
      "execution_count": 27,
      "outputs": []
    },
    {
      "cell_type": "markdown",
      "source": [
        "## Step 6: Define the linear  regression equation and loss function"
      ],
      "metadata": {
        "id": "dvx73wXDrxWW"
      }
    },
    {
      "cell_type": "code",
      "source": [
        "def linear_regression(X, W, b):\n",
        "    linear_output = np.dot(X, W) + b\n",
        "    return sigmoid(linear_output)\n",
        "\n",
        "def loss_function(y_hat, y):\n",
        "    return (1 / (2 * len(y))) * np.sum((y_hat - y) ** 2)"
      ],
      "metadata": {
        "id": "vteFQdYmrycH"
      },
      "execution_count": 29,
      "outputs": []
    },
    {
      "cell_type": "markdown",
      "source": [
        "## Step 7: Perform gradient descent"
      ],
      "metadata": {
        "id": "7WMfGSv8r1_C"
      }
    },
    {
      "cell_type": "code",
      "source": [
        "n = len(y) # Number of data points\n",
        "\n",
        "for epoch in range(epochs):\n",
        "    # Compute predictions (y_hat) using the logistic regression equation\n",
        "    y_hat = linear_regression (X, W, b)\n",
        "\n",
        "    # Compute the gradients of the loss function with respect to W and b\n",
        "    dW = (1 / n) * np.dot((y_hat - y), X)\n",
        "    db = (1 / n) * np.sum(y_hat - y)\n",
        "\n",
        "    # Update W and b using the gradients and learning rate\n",
        "    W -= learning_rate * dW\n",
        "    b -= learning_rate * db\n",
        "\n",
        "    # Compute the loss after the update\n",
        "    loss = loss_function(y_hat, y)\n",
        "\n",
        "    # Print the loss for every 100 epochs\n",
        "    if epoch % 100 == 0:\n",
        "        print(f\"Epoch {epoch}, Loss: {loss}\")"
      ],
      "metadata": {
        "colab": {
          "base_uri": "https://localhost:8080/"
        },
        "id": "ROTczbdVr1a8",
        "outputId": "5c1b06d1-89d9-4171-836a-0a5d6a8ce652"
      },
      "execution_count": 30,
      "outputs": [
        {
          "output_type": "stream",
          "name": "stdout",
          "text": [
            "Epoch 0, Loss: 0.15570435107175495\n",
            "Epoch 100, Loss: 0.07127689883137175\n",
            "Epoch 200, Loss: 0.04270757466694246\n",
            "Epoch 300, Loss: 0.02780505876990792\n",
            "Epoch 400, Loss: 0.019343376529041185\n",
            "Epoch 500, Loss: 0.01416206914780215\n",
            "Epoch 600, Loss: 0.010786989684791845\n",
            "Epoch 700, Loss: 0.008476673962865118\n",
            "Epoch 800, Loss: 0.006830575786922975\n",
            "Epoch 900, Loss: 0.005618611472076695\n"
          ]
        }
      ]
    },
    {
      "cell_type": "markdown",
      "source": [
        "## Step 8: Print the final values of W and b"
      ],
      "metadata": {
        "id": "9grEo5EMr6yd"
      }
    },
    {
      "cell_type": "code",
      "source": [
        "print(\"Final W:\", W)\n",
        "print(\"Final b:\", b)"
      ],
      "metadata": {
        "colab": {
          "base_uri": "https://localhost:8080/"
        },
        "id": "9eb8Rt6Br6bp",
        "outputId": "3a3f7cf1-741c-422b-c4db-d830e4f9e048"
      },
      "execution_count": 31,
      "outputs": [
        {
          "output_type": "stream",
          "name": "stdout",
          "text": [
            "Final W: [ 6.00316965 -2.61601211]\n",
            "Final b: -1.907184365514483\n"
          ]
        }
      ]
    },
    {
      "cell_type": "markdown",
      "source": [
        "## Step 9: function to predict binary labels"
      ],
      "metadata": {
        "id": "I8gAmU8zr-Af"
      }
    },
    {
      "cell_type": "code",
      "source": [
        "def predict(X, W, b, threshold=0.5):\n",
        "    y_hat = linear_regression(X, W, b)\n",
        "    return (y_hat > threshold).astype(int)"
      ],
      "metadata": {
        "id": "BgmneO_3r_ne"
      },
      "execution_count": 32,
      "outputs": []
    },
    {
      "cell_type": "markdown",
      "source": [
        "## Step 10: Test the model"
      ],
      "metadata": {
        "id": "_C81E0EFsFtu"
      }
    },
    {
      "cell_type": "code",
      "source": [
        "y_pred = predict(X, W, b)\n",
        "print(\"Predicted labels:\", y_pred)"
      ],
      "metadata": {
        "colab": {
          "base_uri": "https://localhost:8080/"
        },
        "id": "VSPwHQbEsLtM",
        "outputId": "92f00a26-9b2c-4694-a960-8c0858a31d8e"
      },
      "execution_count": 33,
      "outputs": [
        {
          "output_type": "stream",
          "name": "stdout",
          "text": [
            "Predicted labels: [0 0 1 1]\n"
          ]
        }
      ]
    },
    {
      "cell_type": "code",
      "source": [
        "import matplotlib.pyplot as plt\n",
        "from sklearn.metrics import accuracy_score\n",
        "\n",
        "def plot_data_and_decision_boundary(X, y, W, b):\n",
        "    X = X\n",
        "    plt.scatter(X[y == 0][:, 0], X[y == 0][:, 1], color='blue', label='Class 0')\n",
        "    plt.scatter(X[y == 1][:, 0], X[y == 1][:, 1], color='red', label='Class 1')\n",
        "\n",
        "    x1_min, x1_max = X[:, 0].min() - 0.1, X[:, 0].max() + 0.1\n",
        "    x2_min, x2_max = X[:, 1].min() - 0.1, X[:, 1].max() + 0.1\n",
        "\n",
        "    x1, x2 = np.meshgrid(np.linspace(x1_min, x1_max, 100),\n",
        "                         np.linspace(x2_min, x2_max, 100))\n",
        "\n",
        "    Z = sigmoid(W[0] * x1 + W[1] * x2 + b)\n",
        "    Z = Z.reshape(x1.shape)\n",
        "\n",
        "    plt.contour(x1, x2, Z, levels=[0.5], colors='green', linewidths=2)\n",
        "    plt.xlabel('x1 (normalized)')\n",
        "    plt.ylabel('x2 (normalized)')\n",
        "    plt.legend()\n",
        "    plt.show()\n",
        "\n",
        "# Visualize the dataset and decision boundary\n",
        "plot_data_and_decision_boundary(X, y, W, b)\n",
        "\n",
        "# Compute the accuracy\n",
        "accuracy = accuracy_score(y, y_pred)\n",
        "print(f\"Accuracy: {accuracy * 100:.2f}%\")\n"
      ],
      "metadata": {
        "colab": {
          "base_uri": "https://localhost:8080/",
          "height": 466
        },
        "id": "CdFl23jts5CS",
        "outputId": "f5d8595e-0f85-4535-cef9-cf524bd31fbd"
      },
      "execution_count": 34,
      "outputs": [
        {
          "output_type": "display_data",
          "data": {
            "text/plain": [
              "<Figure size 640x480 with 1 Axes>"
            ],
            "image/png": "[encoded data removed]"
          },
          "metadata": {}
        },
        {
          "output_type": "stream",
          "name": "stdout",
          "text": [
            "Accuracy: 100.00%\n"
          ]
        }
      ]
    }
  ]
}